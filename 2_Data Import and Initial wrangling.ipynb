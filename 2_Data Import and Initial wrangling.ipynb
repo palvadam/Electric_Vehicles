{
 "cells": [
  {
   "cell_type": "markdown",
   "id": "f2737987-5ffc-4bd7-901e-d860894acabe",
   "metadata": {},
   "source": [
    "# Import and wrangle data"
   ]
  },
  {
   "cell_type": "code",
   "execution_count": 35,
   "id": "75295f86-f4fb-4b58-bee8-37119d9b1b8f",
   "metadata": {},
   "outputs": [],
   "source": [
    "# importing the libraries:\n",
    "\n",
    "import pandas as pd\n",
    "import numpy as np\n",
    "import matplotlib.pyplot as plt\n",
    "import seaborn as sns"
   ]
  },
  {
   "cell_type": "code",
   "execution_count": 36,
   "id": "06c3a15e-fe63-43f8-a20c-b5f331d6d0cf",
   "metadata": {},
   "outputs": [],
   "source": [
    "# load the cars dataset from a csv file:\n",
    "\n",
    "df_cars = pd.read_csv('Electric_Vehicle_Population_Data.csv')"
   ]
  },
  {
   "cell_type": "code",
   "execution_count": 37,
   "id": "942bc07f-331b-4838-a05e-725fe36b13f9",
   "metadata": {},
   "outputs": [
    {
     "data": {
      "text/html": [
       "<div>\n",
       "<style scoped>\n",
       "    .dataframe tbody tr th:only-of-type {\n",
       "        vertical-align: middle;\n",
       "    }\n",
       "\n",
       "    .dataframe tbody tr th {\n",
       "        vertical-align: top;\n",
       "    }\n",
       "\n",
       "    .dataframe thead th {\n",
       "        text-align: right;\n",
       "    }\n",
       "</style>\n",
       "<table border=\"1\" class=\"dataframe\">\n",
       "  <thead>\n",
       "    <tr style=\"text-align: right;\">\n",
       "      <th></th>\n",
       "      <th>VIN (1-10)</th>\n",
       "      <th>County</th>\n",
       "      <th>City</th>\n",
       "      <th>State</th>\n",
       "      <th>Postal Code</th>\n",
       "      <th>Model Year</th>\n",
       "      <th>Make</th>\n",
       "      <th>Model</th>\n",
       "      <th>Electric Vehicle Type</th>\n",
       "      <th>Clean Alternative Fuel Vehicle (CAFV) Eligibility</th>\n",
       "      <th>Electric Range</th>\n",
       "      <th>Base MSRP</th>\n",
       "      <th>Legislative District</th>\n",
       "      <th>DOL Vehicle ID</th>\n",
       "      <th>Vehicle Location</th>\n",
       "      <th>Electric Utility</th>\n",
       "      <th>2020 Census Tract</th>\n",
       "    </tr>\n",
       "  </thead>\n",
       "  <tbody>\n",
       "    <tr>\n",
       "      <th>0</th>\n",
       "      <td>2C4RC1N71H</td>\n",
       "      <td>Kitsap</td>\n",
       "      <td>Bremerton</td>\n",
       "      <td>WA</td>\n",
       "      <td>98311.0</td>\n",
       "      <td>2017</td>\n",
       "      <td>CHRYSLER</td>\n",
       "      <td>PACIFICA</td>\n",
       "      <td>Plug-in Hybrid Electric Vehicle (PHEV)</td>\n",
       "      <td>Clean Alternative Fuel Vehicle Eligible</td>\n",
       "      <td>33</td>\n",
       "      <td>0</td>\n",
       "      <td>23.0</td>\n",
       "      <td>349437882</td>\n",
       "      <td>POINT (-122.6466274 47.6341188)</td>\n",
       "      <td>PUGET SOUND ENERGY INC</td>\n",
       "      <td>5.303509e+10</td>\n",
       "    </tr>\n",
       "    <tr>\n",
       "      <th>1</th>\n",
       "      <td>2C4RC1N7XL</td>\n",
       "      <td>Stevens</td>\n",
       "      <td>Colville</td>\n",
       "      <td>WA</td>\n",
       "      <td>99114.0</td>\n",
       "      <td>2020</td>\n",
       "      <td>CHRYSLER</td>\n",
       "      <td>PACIFICA</td>\n",
       "      <td>Plug-in Hybrid Electric Vehicle (PHEV)</td>\n",
       "      <td>Clean Alternative Fuel Vehicle Eligible</td>\n",
       "      <td>32</td>\n",
       "      <td>0</td>\n",
       "      <td>7.0</td>\n",
       "      <td>154690532</td>\n",
       "      <td>POINT (-117.90431 48.547075)</td>\n",
       "      <td>AVISTA CORP</td>\n",
       "      <td>5.306595e+10</td>\n",
       "    </tr>\n",
       "    <tr>\n",
       "      <th>2</th>\n",
       "      <td>KNDC3DLCXN</td>\n",
       "      <td>Yakima</td>\n",
       "      <td>Yakima</td>\n",
       "      <td>WA</td>\n",
       "      <td>98908.0</td>\n",
       "      <td>2022</td>\n",
       "      <td>KIA</td>\n",
       "      <td>EV6</td>\n",
       "      <td>Battery Electric Vehicle (BEV)</td>\n",
       "      <td>Eligibility unknown as battery range has not b...</td>\n",
       "      <td>0</td>\n",
       "      <td>0</td>\n",
       "      <td>14.0</td>\n",
       "      <td>219969144</td>\n",
       "      <td>POINT (-120.6027202 46.5965625)</td>\n",
       "      <td>PACIFICORP</td>\n",
       "      <td>5.307700e+10</td>\n",
       "    </tr>\n",
       "    <tr>\n",
       "      <th>3</th>\n",
       "      <td>5YJ3E1EA0J</td>\n",
       "      <td>Kitsap</td>\n",
       "      <td>Bainbridge Island</td>\n",
       "      <td>WA</td>\n",
       "      <td>98110.0</td>\n",
       "      <td>2018</td>\n",
       "      <td>TESLA</td>\n",
       "      <td>MODEL 3</td>\n",
       "      <td>Battery Electric Vehicle (BEV)</td>\n",
       "      <td>Clean Alternative Fuel Vehicle Eligible</td>\n",
       "      <td>215</td>\n",
       "      <td>0</td>\n",
       "      <td>23.0</td>\n",
       "      <td>476786887</td>\n",
       "      <td>POINT (-122.5235781 47.6293323)</td>\n",
       "      <td>PUGET SOUND ENERGY INC</td>\n",
       "      <td>5.303509e+10</td>\n",
       "    </tr>\n",
       "    <tr>\n",
       "      <th>4</th>\n",
       "      <td>1N4AZ1CP7J</td>\n",
       "      <td>Thurston</td>\n",
       "      <td>Tumwater</td>\n",
       "      <td>WA</td>\n",
       "      <td>98501.0</td>\n",
       "      <td>2018</td>\n",
       "      <td>NISSAN</td>\n",
       "      <td>LEAF</td>\n",
       "      <td>Battery Electric Vehicle (BEV)</td>\n",
       "      <td>Clean Alternative Fuel Vehicle Eligible</td>\n",
       "      <td>151</td>\n",
       "      <td>0</td>\n",
       "      <td>35.0</td>\n",
       "      <td>201185253</td>\n",
       "      <td>POINT (-122.89692 47.043535)</td>\n",
       "      <td>PUGET SOUND ENERGY INC</td>\n",
       "      <td>5.306701e+10</td>\n",
       "    </tr>\n",
       "  </tbody>\n",
       "</table>\n",
       "</div>"
      ],
      "text/plain": [
       "   VIN (1-10)    County               City State  Postal Code  Model Year  \\\n",
       "0  2C4RC1N71H    Kitsap          Bremerton    WA      98311.0        2017   \n",
       "1  2C4RC1N7XL   Stevens           Colville    WA      99114.0        2020   \n",
       "2  KNDC3DLCXN    Yakima             Yakima    WA      98908.0        2022   \n",
       "3  5YJ3E1EA0J    Kitsap  Bainbridge Island    WA      98110.0        2018   \n",
       "4  1N4AZ1CP7J  Thurston           Tumwater    WA      98501.0        2018   \n",
       "\n",
       "       Make     Model                   Electric Vehicle Type  \\\n",
       "0  CHRYSLER  PACIFICA  Plug-in Hybrid Electric Vehicle (PHEV)   \n",
       "1  CHRYSLER  PACIFICA  Plug-in Hybrid Electric Vehicle (PHEV)   \n",
       "2       KIA       EV6          Battery Electric Vehicle (BEV)   \n",
       "3     TESLA   MODEL 3          Battery Electric Vehicle (BEV)   \n",
       "4    NISSAN      LEAF          Battery Electric Vehicle (BEV)   \n",
       "\n",
       "   Clean Alternative Fuel Vehicle (CAFV) Eligibility  Electric Range  \\\n",
       "0            Clean Alternative Fuel Vehicle Eligible              33   \n",
       "1            Clean Alternative Fuel Vehicle Eligible              32   \n",
       "2  Eligibility unknown as battery range has not b...               0   \n",
       "3            Clean Alternative Fuel Vehicle Eligible             215   \n",
       "4            Clean Alternative Fuel Vehicle Eligible             151   \n",
       "\n",
       "   Base MSRP  Legislative District  DOL Vehicle ID  \\\n",
       "0          0                  23.0       349437882   \n",
       "1          0                   7.0       154690532   \n",
       "2          0                  14.0       219969144   \n",
       "3          0                  23.0       476786887   \n",
       "4          0                  35.0       201185253   \n",
       "\n",
       "                  Vehicle Location        Electric Utility  2020 Census Tract  \n",
       "0  POINT (-122.6466274 47.6341188)  PUGET SOUND ENERGY INC       5.303509e+10  \n",
       "1     POINT (-117.90431 48.547075)             AVISTA CORP       5.306595e+10  \n",
       "2  POINT (-120.6027202 46.5965625)              PACIFICORP       5.307700e+10  \n",
       "3  POINT (-122.5235781 47.6293323)  PUGET SOUND ENERGY INC       5.303509e+10  \n",
       "4     POINT (-122.89692 47.043535)  PUGET SOUND ENERGY INC       5.306701e+10  "
      ]
     },
     "execution_count": 37,
     "metadata": {},
     "output_type": "execute_result"
    }
   ],
   "source": [
    "# checking the imported database:\n",
    "\n",
    "df_cars.head()"
   ]
  },
  {
   "cell_type": "code",
   "execution_count": 38,
   "id": "b0bfc7bd-c93d-43d4-aafe-ee7abf4676f8",
   "metadata": {},
   "outputs": [
    {
     "data": {
      "text/plain": [
       "(159467, 17)"
      ]
     },
     "execution_count": 38,
     "metadata": {},
     "output_type": "execute_result"
    }
   ],
   "source": [
    "# the form of the dataframe: 159467 entries, 17 columns\n",
    "\n",
    "df_cars.shape"
   ]
  },
  {
   "cell_type": "code",
   "execution_count": 39,
   "id": "dae69a89-b83d-4c99-8fad-0bea3c7f4f22",
   "metadata": {},
   "outputs": [
    {
     "data": {
      "text/html": [
       "<div>\n",
       "<style scoped>\n",
       "    .dataframe tbody tr th:only-of-type {\n",
       "        vertical-align: middle;\n",
       "    }\n",
       "\n",
       "    .dataframe tbody tr th {\n",
       "        vertical-align: top;\n",
       "    }\n",
       "\n",
       "    .dataframe thead th {\n",
       "        text-align: right;\n",
       "    }\n",
       "</style>\n",
       "<table border=\"1\" class=\"dataframe\">\n",
       "  <thead>\n",
       "    <tr style=\"text-align: right;\">\n",
       "      <th></th>\n",
       "      <th>Postal Code</th>\n",
       "      <th>Model Year</th>\n",
       "      <th>Electric Range</th>\n",
       "      <th>Base MSRP</th>\n",
       "      <th>Legislative District</th>\n",
       "      <th>DOL Vehicle ID</th>\n",
       "      <th>2020 Census Tract</th>\n",
       "    </tr>\n",
       "  </thead>\n",
       "  <tbody>\n",
       "    <tr>\n",
       "      <th>count</th>\n",
       "      <td>159463.000000</td>\n",
       "      <td>159467.000000</td>\n",
       "      <td>159467.000000</td>\n",
       "      <td>159467.00000</td>\n",
       "      <td>159106.000000</td>\n",
       "      <td>1.594670e+05</td>\n",
       "      <td>1.594630e+05</td>\n",
       "    </tr>\n",
       "    <tr>\n",
       "      <th>mean</th>\n",
       "      <td>98170.373635</td>\n",
       "      <td>2020.192510</td>\n",
       "      <td>64.283319</td>\n",
       "      <td>1227.63716</td>\n",
       "      <td>29.261675</td>\n",
       "      <td>2.140242e+08</td>\n",
       "      <td>5.297287e+10</td>\n",
       "    </tr>\n",
       "    <tr>\n",
       "      <th>std</th>\n",
       "      <td>2453.354932</td>\n",
       "      <td>3.010564</td>\n",
       "      <td>94.634277</td>\n",
       "      <td>8930.03468</td>\n",
       "      <td>14.843878</td>\n",
       "      <td>7.959275e+07</td>\n",
       "      <td>1.621526e+09</td>\n",
       "    </tr>\n",
       "    <tr>\n",
       "      <th>min</th>\n",
       "      <td>1730.000000</td>\n",
       "      <td>1997.000000</td>\n",
       "      <td>0.000000</td>\n",
       "      <td>0.00000</td>\n",
       "      <td>1.000000</td>\n",
       "      <td>4.385000e+03</td>\n",
       "      <td>1.081042e+09</td>\n",
       "    </tr>\n",
       "    <tr>\n",
       "      <th>25%</th>\n",
       "      <td>98052.000000</td>\n",
       "      <td>2018.000000</td>\n",
       "      <td>0.000000</td>\n",
       "      <td>0.00000</td>\n",
       "      <td>18.000000</td>\n",
       "      <td>1.731016e+08</td>\n",
       "      <td>5.303301e+10</td>\n",
       "    </tr>\n",
       "    <tr>\n",
       "      <th>50%</th>\n",
       "      <td>98122.000000</td>\n",
       "      <td>2021.000000</td>\n",
       "      <td>14.000000</td>\n",
       "      <td>0.00000</td>\n",
       "      <td>33.000000</td>\n",
       "      <td>2.198450e+08</td>\n",
       "      <td>5.303303e+10</td>\n",
       "    </tr>\n",
       "    <tr>\n",
       "      <th>75%</th>\n",
       "      <td>98370.000000</td>\n",
       "      <td>2023.000000</td>\n",
       "      <td>84.000000</td>\n",
       "      <td>0.00000</td>\n",
       "      <td>43.000000</td>\n",
       "      <td>2.448363e+08</td>\n",
       "      <td>5.305307e+10</td>\n",
       "    </tr>\n",
       "    <tr>\n",
       "      <th>max</th>\n",
       "      <td>99577.000000</td>\n",
       "      <td>2024.000000</td>\n",
       "      <td>337.000000</td>\n",
       "      <td>845000.00000</td>\n",
       "      <td>49.000000</td>\n",
       "      <td>4.792548e+08</td>\n",
       "      <td>5.603300e+10</td>\n",
       "    </tr>\n",
       "  </tbody>\n",
       "</table>\n",
       "</div>"
      ],
      "text/plain": [
       "         Postal Code     Model Year  Electric Range     Base MSRP  \\\n",
       "count  159463.000000  159467.000000   159467.000000  159467.00000   \n",
       "mean    98170.373635    2020.192510       64.283319    1227.63716   \n",
       "std      2453.354932       3.010564       94.634277    8930.03468   \n",
       "min      1730.000000    1997.000000        0.000000       0.00000   \n",
       "25%     98052.000000    2018.000000        0.000000       0.00000   \n",
       "50%     98122.000000    2021.000000       14.000000       0.00000   \n",
       "75%     98370.000000    2023.000000       84.000000       0.00000   \n",
       "max     99577.000000    2024.000000      337.000000  845000.00000   \n",
       "\n",
       "       Legislative District  DOL Vehicle ID  2020 Census Tract  \n",
       "count         159106.000000    1.594670e+05       1.594630e+05  \n",
       "mean              29.261675    2.140242e+08       5.297287e+10  \n",
       "std               14.843878    7.959275e+07       1.621526e+09  \n",
       "min                1.000000    4.385000e+03       1.081042e+09  \n",
       "25%               18.000000    1.731016e+08       5.303301e+10  \n",
       "50%               33.000000    2.198450e+08       5.303303e+10  \n",
       "75%               43.000000    2.448363e+08       5.305307e+10  \n",
       "max               49.000000    4.792548e+08       5.603300e+10  "
      ]
     },
     "execution_count": 39,
     "metadata": {},
     "output_type": "execute_result"
    }
   ],
   "source": [
    "# summary statistics of the df (of course not all of these make sense at this stage!)\n",
    "\n",
    "df_cars.describe()"
   ]
  },
  {
   "cell_type": "code",
   "execution_count": 40,
   "id": "2daf108e-cc95-487a-8eb1-1d93f586eb37",
   "metadata": {},
   "outputs": [
    {
     "data": {
      "text/plain": [
       "Index(['VIN (1-10)', 'County', 'City', 'State', 'Postal Code', 'Model Year',\n",
       "       'Make', 'Model', 'Electric Vehicle Type',\n",
       "       'Clean Alternative Fuel Vehicle (CAFV) Eligibility', 'Electric Range',\n",
       "       'Base MSRP', 'Legislative District', 'DOL Vehicle ID',\n",
       "       'Vehicle Location', 'Electric Utility', '2020 Census Tract'],\n",
       "      dtype='object')"
      ]
     },
     "execution_count": 40,
     "metadata": {},
     "output_type": "execute_result"
    }
   ],
   "source": [
    "# column names:\n",
    "\n",
    "df_cars.columns"
   ]
  },
  {
   "cell_type": "markdown",
   "id": "ba698c66-a2c4-458f-b158-9fc774d32d0e",
   "metadata": {},
   "source": [
    "# Identify data types"
   ]
  },
  {
   "cell_type": "code",
   "execution_count": 85,
   "id": "23aa5e83-dd21-4803-94aa-16df5217bd89",
   "metadata": {},
   "outputs": [
    {
     "data": {
      "text/plain": [
       "VIN (1-10)                                            object\n",
       "County                                                object\n",
       "City                                                  object\n",
       "State                                                 object\n",
       "Postal Code                                          float64\n",
       "Model Year                                             int64\n",
       "Make                                                  object\n",
       "Model                                                 object\n",
       "Electric Vehicle Type                                 object\n",
       "Clean Alternative Fuel Vehicle (CAFV) Eligibility     object\n",
       "Electric Range                                         int64\n",
       "Base MSRP                                              int64\n",
       "Legislative District                                 float64\n",
       "DOL Vehicle ID                                         int64\n",
       "Vehicle Location                                      object\n",
       "Electric Utility                                      object\n",
       "2020 Census Tract                                    float64\n",
       "dtype: object"
      ]
     },
     "execution_count": 85,
     "metadata": {},
     "output_type": "execute_result"
    }
   ],
   "source": [
    "df_cars.dtypes\n",
    "# the data are all in correct/logical data types"
   ]
  },
  {
   "cell_type": "markdown",
   "id": "3bbaadc4-7349-44af-a501-413ecdbf9ac2",
   "metadata": {},
   "source": [
    "# Identify the percentage of missing values"
   ]
  },
  {
   "cell_type": "code",
   "execution_count": 83,
   "id": "b9c83f4b-efda-455b-af6d-564178768c10",
   "metadata": {},
   "outputs": [
    {
     "data": {
      "text/plain": [
       "VIN (1-10)                                           0.000000\n",
       "County                                               0.002508\n",
       "City                                                 0.002508\n",
       "State                                                0.000000\n",
       "Postal Code                                          0.002508\n",
       "Model Year                                           0.000000\n",
       "Make                                                 0.000000\n",
       "Model                                                0.000000\n",
       "Electric Vehicle Type                                0.000000\n",
       "Clean Alternative Fuel Vehicle (CAFV) Eligibility    0.000000\n",
       "Electric Range                                       0.000000\n",
       "Base MSRP                                            0.000000\n",
       "Legislative District                                 0.226379\n",
       "DOL Vehicle ID                                       0.000000\n",
       "Vehicle Location                                     0.005644\n",
       "Electric Utility                                     0.002508\n",
       "2020 Census Tract                                    0.002508\n",
       "dtype: float64"
      ]
     },
     "execution_count": 83,
     "metadata": {},
     "output_type": "execute_result"
    }
   ],
   "source": [
    "(df_cars.isnull().sum()/len(df_cars))*100\n",
    "\n",
    "# even for the most missing data, <1% is missing (Legislative District)"
   ]
  },
  {
   "cell_type": "markdown",
   "id": "7dfe5bc1-014a-478d-a5a4-9cd3576c5a9d",
   "metadata": {},
   "source": [
    "# Duplicates"
   ]
  },
  {
   "cell_type": "code",
   "execution_count": 88,
   "id": "f19f9a94-f419-4413-9e80-aeccff280fc1",
   "metadata": {},
   "outputs": [
    {
     "name": "stdout",
     "output_type": "stream",
     "text": [
      "0\n"
     ]
    }
   ],
   "source": [
    "# finding duplicates: there are NO DUPLICATES\n",
    "\n",
    "print(df_cars.duplicated().sum())\n",
    "\n",
    "df_nodupl = df.drop_duplicates()"
   ]
  },
  {
   "cell_type": "markdown",
   "id": "ba779bfa-3aef-4656-af79-f689fb1940be",
   "metadata": {},
   "source": [
    "# Imput missing values and Normalizing Data"
   ]
  },
  {
   "cell_type": "code",
   "execution_count": 94,
   "id": "12a2f6ac-5462-4667-918c-af53c2ffd358",
   "metadata": {},
   "outputs": [
    {
     "data": {
      "text/plain": [
       "2020 Census Tract\n",
       "5.303303e+10    1881\n",
       "5.303303e+10    1002\n",
       "5.303303e+10     740\n",
       "5.303303e+10     654\n",
       "5.303301e+10     594\n",
       "                ... \n",
       "5.117901e+10       1\n",
       "5.180008e+10       1\n",
       "4.013423e+09       1\n",
       "2.916503e+10       1\n",
       "4.501502e+10       1\n",
       "Name: count, Length: 2091, dtype: int64"
      ]
     },
     "execution_count": 94,
     "metadata": {},
     "output_type": "execute_result"
    }
   ],
   "source": [
    "# e.g. for 2020 Census Tract:\n",
    "# find the value_count for these:\n",
    "\n",
    "df_cars['2020 Census Tract'].value_counts()\n"
   ]
  },
  {
   "cell_type": "code",
   "execution_count": 99,
   "id": "8407688e-7901-430f-9b13-b283a5e30fd5",
   "metadata": {},
   "outputs": [
    {
     "data": {
      "text/plain": [
       "0         5.303509e+10\n",
       "1         5.306595e+10\n",
       "2         5.307700e+10\n",
       "3         5.303509e+10\n",
       "4         5.306701e+10\n",
       "              ...     \n",
       "159462    5.305995e+10\n",
       "159463    5.305795e+10\n",
       "159464    5.303303e+10\n",
       "159465    5.307300e+10\n",
       "159466    5.302997e+10\n",
       "Name: 2020 Census Tract, Length: 159467, dtype: float64"
      ]
     },
     "execution_count": 99,
     "metadata": {},
     "output_type": "execute_result"
    }
   ],
   "source": [
    "# replace the missing one with NaN:\n",
    "\n",
    "df_cars['2020 Census Tract'].replace('?', np.NaN)\n",
    "df_cars['2020 Census Tract'].replace(' ', np.NaN)"
   ]
  },
  {
   "cell_type": "code",
   "execution_count": 105,
   "id": "dc26abea-c923-4f5e-a6e9-10748785ed43",
   "metadata": {},
   "outputs": [],
   "source": [
    "# using the modus value for replacing missing ones:\n",
    "\n",
    "modus = df_cars['2020 Census Tract'].mode()\n",
    "df_cars = [['2020 Census Tract']].fillna(modus)"
   ]
  }
 ],
 "metadata": {
  "kernelspec": {
   "display_name": "Python 3 (ipykernel)",
   "language": "python",
   "name": "python3"
  },
  "language_info": {
   "codemirror_mode": {
    "name": "ipython",
    "version": 3
   },
   "file_extension": ".py",
   "mimetype": "text/x-python",
   "name": "python",
   "nbconvert_exporter": "python",
   "pygments_lexer": "ipython3",
   "version": "3.8.17"
  }
 },
 "nbformat": 4,
 "nbformat_minor": 5
}
